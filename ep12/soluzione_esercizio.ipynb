{
 "cells": [
  {
   "cell_type": "markdown",
   "id": "5947c6be",
   "metadata": {},
   "source": [
    "# Esercizio: definire l'uguaglianza tra persone implementando `Eq`\n",
    "\n",
    "Ripartiamo dal tipo `Persona` come definito la scorsa volta:"
   ]
  },
  {
   "cell_type": "code",
   "execution_count": 1,
   "id": "61356106",
   "metadata": {},
   "outputs": [],
   "source": [
    "data Persona = Persona {\n",
    "    nome :: String,\n",
    "    eta :: Int,\n",
    "    sesso :: Sesso } \n",
    "    deriving Show \n",
    "    \n",
    "data Sesso = Maschio | Femmina\n",
    "    deriving Show"
   ]
  },
  {
   "cell_type": "markdown",
   "id": "c728a185",
   "metadata": {},
   "source": [
    "Al momento, non è possibile confrontare due persone:"
   ]
  },
  {
   "cell_type": "code",
   "execution_count": 2,
   "id": "a272d34e",
   "metadata": {},
   "outputs": [
    {
     "ename": "",
     "evalue": "",
     "output_type": "error",
     "traceback": [
      "<interactive>:1:1: error:\n    • No instance for (Eq Persona) arising from a use of ‘==’\n    • In the expression: d == e\n      In an equation for ‘it’: it = d == e"
     ]
    }
   ],
   "source": [
    "d = Persona {\n",
    "    nome = \"Davide\",\n",
    "    eta = 20,\n",
    "    sesso = Maschio }\n",
    "    \n",
    "e = Persona {\n",
    "    nome = \"Elena\",\n",
    "    eta = 45,\n",
    "    sesso = Femmina }\n",
    "\n",
    "d == e"
   ]
  },
  {
   "cell_type": "markdown",
   "id": "7b99570e",
   "metadata": {},
   "source": [
    "Come da messaggio da errore, il problema è che `Persona` non è istanza di `Eq`.\n",
    "Andiamo innanzitutto a vedere quali funzioni sono richieste. Nella [documentazione](https://hackage.haskell.org/package/base-4.16.0.0/docs/Data-Eq.html), leggiamo che (tradotto dall'inglese):\n",
    "\n",
    "> La classe `Eq` definisce l'uguaglianza `(==)` e la disuguaglianza `(/=)`. Tutti i tipi di dato essenziali esportati da `Prelude` sono istanze di `Eq`, ed è possibile derivare [automaticamente] `Eq` per qualsiasi tipo di dato i cui costituenti sono a loro volta istanze di `Eq`.\n",
    "\n",
    "Questo significa che `String` e `Int`, i tipi dei primi due \"campi\" di `Persona`, sono già istanze di `Eq` e che se rendessimo anche `Sesso` istanza di `Eq` potremmo usare `deriving` per istanziare `Eq` per `Persona`.\n",
    "\n",
    "Una nota ulteriore: le parentesi tonde intorno a `==` e `!=` indicano che si tratta di _funzioni infisse_ con due arogmenti, cioé funzioni che si utilizzano come l'operatore `+`: con i due argomenti uno a destra e uno a sinistra (spiegazione più dettagliata nel prossimo video).\n",
    "\n",
    "Potremmo dunque rendere `Sesso` istanza di `Eq` come segue:"
   ]
  },
  {
   "cell_type": "code",
   "execution_count": 3,
   "id": "efa88b99",
   "metadata": {},
   "outputs": [],
   "source": [
    "instance Eq Sesso where\n",
    "    Maschio == Maschio = True\n",
    "    Femmina == Femmina = True\n",
    "    _ == _ = False\n",
    "    \n",
    "    Femmina /= Maschio = True\n",
    "    Maschio /= Femmina = True\n",
    "    _ /= _ = False"
   ]
  },
  {
   "cell_type": "markdown",
   "id": "e0d0b1ce",
   "metadata": {},
   "source": [
    "In realtà, sarebbe stato sufficiente definire solo `==` (o solo `/=`), perché la typeclass `Eq` contiene anche delle definzioni per queste due funzioni. Esse sono definite l'una in termini dell'altra:\n",
    "\n",
    "```haskell\n",
    "x == y = not (x /= y)  \n",
    "x /= y = not (x == y) \n",
    "```\n",
    "\n",
    "Difatti nella documentazione leggiamo anche che la _definizione minima completa_ di `Eq` consiste nel definire una di queste due funzioni.\n",
    "\n",
    "A questo punto, possiamo derivare `Eq` per `Persona` con `deriving Eq`, oppure implementare `==` o `/=` manualmente:"
   ]
  },
  {
   "cell_type": "code",
   "execution_count": 4,
   "id": "43f6557c",
   "metadata": {},
   "outputs": [],
   "source": [
    "instance Eq Persona where\n",
    "    p1 == p2 = nome p1 == nome p2 && eta p1 == eta p2 && sesso p1 == sesso p2"
   ]
  },
  {
   "cell_type": "markdown",
   "id": "c56b7e63",
   "metadata": {},
   "source": [
    "Ora possiamo confrontare una `Persona` con l'altra:"
   ]
  },
  {
   "cell_type": "code",
   "execution_count": 5,
   "id": "3b23f019",
   "metadata": {},
   "outputs": [
    {
     "data": {
      "text/plain": [
       "False"
      ]
     },
     "metadata": {},
     "output_type": "display_data"
    }
   ],
   "source": [
    "d == e"
   ]
  },
  {
   "cell_type": "code",
   "execution_count": 6,
   "id": "7b3b682e",
   "metadata": {},
   "outputs": [
    {
     "data": {
      "text/plain": [
       "True"
      ]
     },
     "metadata": {},
     "output_type": "display_data"
    }
   ],
   "source": [
    "d == d"
   ]
  },
  {
   "cell_type": "code",
   "execution_count": 7,
   "id": "704b3686",
   "metadata": {},
   "outputs": [
    {
     "data": {
      "text/plain": [
       "True"
      ]
     },
     "metadata": {},
     "output_type": "display_data"
    }
   ],
   "source": [
    "d /= e"
   ]
  },
  {
   "cell_type": "code",
   "execution_count": 8,
   "id": "afbbe76f",
   "metadata": {},
   "outputs": [
    {
     "data": {
      "text/plain": [
       "False"
      ]
     },
     "metadata": {},
     "output_type": "display_data"
    }
   ],
   "source": [
    "d /= d"
   ]
  }
 ],
 "metadata": {
  "kernelspec": {
   "display_name": "Haskell",
   "language": "haskell",
   "name": "haskell"
  },
  "language_info": {
   "codemirror_mode": "ihaskell",
   "file_extension": ".hs",
   "mimetype": "text/x-haskell",
   "name": "haskell",
   "pygments_lexer": "Haskell",
   "version": "8.10.7"
  }
 },
 "nbformat": 4,
 "nbformat_minor": 5
}

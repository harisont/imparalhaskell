{
 "cells": [
  {
   "cell_type": "markdown",
   "id": "7f6c992e",
   "metadata": {},
   "source": [
    "# Episodio 12: definizione e istanziamento di typeclass, parte 1\n",
    "Gli esempi qui sotto possono essere eseguiti copiandoli nell'interprete di Haskell, il `ghci`. Se vuoi eseguire direttamente questo notebook, le istruzioni su come farlo sono disponibili a [questo](https://github.com/gibiansky/IHaskell) link.\n",
    "\n",
    "\n",
    "## Cos'é una typeclass\n",
    "Abbiamo già visto nelle lezioni precedenti come il concetto di _typeclass_ sia piuttosto dissimile da quello di _classe_ in progammazione ad oggetti. Una typeclass somiglia piuttosto ad un'_interfaccia_, in quanto definisce un comportamento che i vari tipi di dato possono implementare.\n",
    "\n",
    "Per esempio, la typeclass `Show` può essere informalmente definita come la typeclass di tutte le cose che si possono \"vedere\". Gli interi (e, in generale, i numeri) sono tra i tanti tipi che hanno questa caratteristica. Nel terminale, se scriviamo il nome di una variabile intera dopo averla definita, automaticamente ne sarà mostrato il valore."
   ]
  },
  {
   "cell_type": "code",
   "execution_count": 1,
   "id": "0e467668",
   "metadata": {},
   "outputs": [
    {
     "data": {
      "text/plain": [
       "5"
      ]
     },
     "metadata": {},
     "output_type": "display_data"
    }
   ],
   "source": [
    "n = 5\n",
    "n"
   ]
  },
  {
   "cell_type": "markdown",
   "id": "dc595e93",
   "metadata": {},
   "source": [
    "Tuttavia, al di fuori dell'interprete, per visualizzare una variabile (o altro) è necessario convertirla in stringa e chiamare una funzione di output come `putStrLn`, l'equivalente di `print` in Python. Per esempio, saltando qualche passaggio sul quale torneremo poi, potremmo scrivere seguente codice in un file Haskell:"
   ]
  },
  {
   "cell_type": "markdown",
   "id": "0de22d4b",
   "metadata": {},
   "source": [
    "```haskell\n",
    "main = do \n",
    "    let n = 5 -- definizione di una costante \n",
    "    putStrLn $ show n -- conversione in stringa (show) e chiamata di funzione di output. \n",
    "```"
   ]
  },
  {
   "cell_type": "markdown",
   "id": "ab23767f",
   "metadata": {},
   "source": [
    "Eseguendo questo programma con `runhaskell` avremmo come output `5`.\n",
    "\n",
    "> __NB:__ nel video e nell'esempio qui sopra ho inavvertitatmente usato una notazione che non avevo ancora spiegato. In breve, `putStrLn $ show n` equivale a `putStrLn (show n)`. Ho anche detto che `print = putStringLn . show`, che è come dire che `print s = putStringLn (show x)`, che a chi ha studiato un po' di matematica universitaria ricorderà molto la composizione di funzioni. Torneremo prest(in)o su entrambi gli argomenti, ma se volete uno spoiler di qualità (in inglese) lo trovate [qui](http://learnyouahaskell.com/higher-order-functions#function-application).\n",
    "\n",
    "Interessante che la funzione di conversione a stringa sia stata fatta tramite una funzione chiamata `show` proprio come la typeclass, eh?\n",
    "\n",
    "__Una typeclass__, difatti, altro non __è__ che __un insieme di _definizioni_ e/o _dichiarazioni_ (cioè type signature) di funzioni che i vari tipi di dato possono implementare__ (in gergo Haskelliano, un tipo di dato _istanzia_ una typeclass). \n",
    "\n",
    "## Definire una typeclass\n",
    "A livello sintattico, Show è definita più o meno così (in realtà, se controllate il [codice sorgente](https://hackage.haskell.org/package/base-4.15.0.0/docs/src/GHC-Show.html#Show), vedrete che in questo caso le funzioni sono anche definite):\n",
    "\n",
    "```haskell\n",
    "class Show a where\n",
    "  showsPrec :: Int -> a -> ShowS\n",
    "  show :: a -> String\n",
    "  showList :: [a] -> ShowS\n",
    "```"
   ]
  },
  {
   "cell_type": "markdown",
   "id": "967c9a46",
   "metadata": {},
   "source": [
    "La sintassi è dunque:\n",
    "\n",
    "```haskell\n",
    "class NomeTypeclass tipo where\n",
    "    -- dichiarazioni e/o definizioni di funzioni\n",
    "```\n",
    "\n",
    "## Istanziare una typeclass\n",
    "\n",
    "Ci concentriamo per il momento sulla funzione `show`, quella che solitamente si va ad implementare manualmente, che prende un qualcosa (qualsiasi cosa, `a`) e lo converte in `String`. Per fare un esempio di ciò, riprendiamo alcuni tipi che abbiamo definito la scorsa volta:"
   ]
  },
  {
   "cell_type": "code",
   "execution_count": 2,
   "id": "8d629462",
   "metadata": {},
   "outputs": [],
   "source": [
    "data Persona = Persona {\n",
    "    nome :: String,\n",
    "    eta :: Int,\n",
    "    sesso :: Sesso } \n",
    "    deriving Show \n",
    "    \n",
    "data Sesso = Maschio | Femmina\n",
    "    deriving Show"
   ]
  },
  {
   "cell_type": "markdown",
   "id": "45305fe8",
   "metadata": {},
   "source": [
    "Definiamo ora una nuova `Persona` e proviamo a \"visualizzarla\":"
   ]
  },
  {
   "cell_type": "code",
   "execution_count": 3,
   "id": "ddfbe249",
   "metadata": {},
   "outputs": [
    {
     "data": {
      "text/plain": [
       "Persona {nome = \"Davide\", eta = 20, sesso = Maschio}"
      ]
     },
     "metadata": {},
     "output_type": "display_data"
    }
   ],
   "source": [
    "d = Persona {\n",
    "    nome = \"Davide\",\n",
    "    eta = 20,\n",
    "    sesso = Maschio }\n",
    "\n",
    "d"
   ]
  },
  {
   "cell_type": "markdown",
   "id": "68d593e4",
   "metadata": {},
   "source": [
    "Potremmo voler mostrare `Persona` in maniera più sintetica, per esempio semplicemente come `nome, età, sesso`. Per farlo, ridefiniamo il nostro tipo senza usare `deriving` e istanziamo `Show` manualmente:"
   ]
  },
  {
   "cell_type": "code",
   "execution_count": 4,
   "id": "14dececf",
   "metadata": {},
   "outputs": [
    {
     "data": {
      "text/plain": [
       "\"Davide\", 20, Maschio"
      ]
     },
     "metadata": {},
     "output_type": "display_data"
    }
   ],
   "source": [
    "data Persona' = Persona' {\n",
    "    nome' :: String,\n",
    "    eta' :: Int,\n",
    "    sesso' :: Sesso } \n",
    "\n",
    "instance Show Persona' where\n",
    "    -- definizione manuale di Show\n",
    "    show p = show (nome' p) ++ \", \" ++ show (eta' p) ++ \", \" ++ show (sesso' p)\n",
    "    \n",
    "d = Persona' {\n",
    "    nome' = \"Davide\",\n",
    "    eta' = 20,\n",
    "    sesso' = Maschio }\n",
    "    \n",
    "d"
   ]
  }
 ],
 "metadata": {
  "kernelspec": {
   "display_name": "Haskell",
   "language": "haskell",
   "name": "haskell"
  },
  "language_info": {
   "codemirror_mode": "ihaskell",
   "file_extension": ".hs",
   "mimetype": "text/x-haskell",
   "name": "haskell",
   "pygments_lexer": "Haskell",
   "version": "8.10.7"
  }
 },
 "nbformat": 4,
 "nbformat_minor": 5
}

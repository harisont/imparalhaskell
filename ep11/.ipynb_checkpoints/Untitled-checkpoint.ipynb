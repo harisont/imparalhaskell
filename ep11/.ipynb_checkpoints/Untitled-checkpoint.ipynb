{
 "cells": [
  {
   "cell_type": "markdown",
   "id": "9c16b664",
   "metadata": {},
   "source": [
    "# Episodio 11: definire nuovi tipi, parte 2\n",
    "Gli esempi qui sotto possono essere eseguiti copiandoli nell'interprete di Haskell, il `ghci`. Se vuoi eseguire direttamente questo notebook, le istruzioni su come farlo sono disponibili a [questo](https://github.com/gibiansky/IHaskell) link.\n",
    "\n",
    "## Precisazioni sui record types\n",
    "### 1. I nomi dei \"campi\" di un record sono funzioni top-level\n",
    "...E per funzioni top-level s'intende funzioni con visibilità globale, il che significa che una volta definito un record type, __non__ possiamo definire altre funzioni che hanno lo stesso nome di uno dei suoi campi, né altri record con campi con lo stesso nome. \n",
    "Provando a farlo, otterremo un errore a tempo di compilazione.\n",
    "Per capire meglio, utilizziamo un tipo definito la scorsa volta, `Persona` (che ci richiede anche di ridefinire un altro tipo, `Sesso`):"
   ]
  },
  {
   "cell_type": "code",
   "execution_count": 5,
   "id": "75996dad",
   "metadata": {},
   "outputs": [
    {
     "ename": "",
     "evalue": "",
     "output_type": "error",
     "traceback": [
      "<interactive>:11:5: error:\n    Multiple declarations of ‘nome’\n    Declared at: <interactive>:2:5\n                 <interactive>:11:5"
     ]
    }
   ],
   "source": [
    "data Persona = Persona {\n",
    "    nome :: String,\n",
    "    eta :: Int,\n",
    "    sesso :: Sesso } \n",
    "    deriving Show \n",
    "    \n",
    "data Sesso = Maschio | Femmina\n",
    "    deriving Show\n",
    "    \n",
    "nome :: Persona -> String\n",
    "nome = undefined\n",
    "\n",
    "data AnimaleDomestico = AnimaleDomestico {\n",
    "    nome :: String,\n",
    "    specie :: String }"
   ]
  },
  {
   "cell_type": "markdown",
   "id": "84e81042",
   "metadata": {},
   "source": [
    "### 2. Lasciare un campo non inizializzato è una cattiva idea\n",
    "Se __non__ inizializziamo un campo, come nel seguente esempio, otterremo invece un semplice warning:"
   ]
  },
  {
   "cell_type": "code",
   "execution_count": 6,
   "id": "96e35b99",
   "metadata": {},
   "outputs": [
    {
     "ename": "",
     "evalue": "",
     "output_type": "error",
     "traceback": [
      "<interactive>:1:5: error:\n    • Constructor ‘Persona’ does not have field ‘nome’\n    • In the expression: Persona {nome = \"Davide\", eta = 20}\n      In an equation for ‘d’: d = Persona {nome = \"Davide\", eta = 20}"
     ]
    }
   ],
   "source": [
    "d = Persona {\n",
    "    nome = \"Davide\",\n",
    "    eta = 20 }"
   ]
  },
  {
   "cell_type": "markdown",
   "id": "691ba740",
   "metadata": {},
   "source": [
    "... o almeno, così si comporta il mio `ghci`. A quanto pare, i notebook sono ancora più severi! In `ghci`, ad ogni modo, inizializzare `d` come sopra sarebbe tutto sommato valido. Il problema è che chiamare `sesso d` risulterebbe in un temutissimo errore a tempo di esecuzione (output della mia console):\n",
    "\n",
    "```\n",
    "ghci> sesso d\n",
    "*** Exception: Ep11.hs:(21,5)-(23,14): Missing field in record construction \n",
    "```\n",
    "\n",
    "Attenzione quindi a non aspettarsi un semplice `NULL` in risposta e a non fare mai niente del genere."
   ]
  },
  {
   "cell_type": "markdown",
   "id": "acb169cd",
   "metadata": {},
   "source": [
    "## Tipi parametrici\n",
    "L'errore di cui sopra può forse far sorgere il dubbio che il riferimento a `NULL` presente nella stragrande maggioranza dei linguaggi di programmazione non sia un'idea tanto cattiva. Ovviamente però _lo è_."
   ]
  }
 ],
 "metadata": {
  "kernelspec": {
   "display_name": "Haskell",
   "language": "haskell",
   "name": "haskell"
  },
  "language_info": {
   "codemirror_mode": "ihaskell",
   "file_extension": ".hs",
   "mimetype": "text/x-haskell",
   "name": "haskell",
   "pygments_lexer": "Haskell",
   "version": "8.10.7"
  }
 },
 "nbformat": 4,
 "nbformat_minor": 5
}

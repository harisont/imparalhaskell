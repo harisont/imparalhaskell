{
 "cells": [
  {
   "cell_type": "markdown",
   "id": "9c16b664",
   "metadata": {},
   "source": [
    "# Episodio 11: definire nuovi tipi, parte 2\n",
    "Gli esempi qui sotto possono essere eseguiti copiandoli nell'interprete di Haskell, il `ghci`. Se vuoi eseguire direttamente questo notebook, le istruzioni su come farlo sono disponibili a [questo](https://github.com/gibiansky/IHaskell) link.\n",
    "\n",
    "## Precisazioni sui record types\n",
    "### 1. I nomi dei \"campi\" di un record sono funzioni top-level\n",
    "...E per funzioni top-level s'intende funzioni con visibilità globale, il che significa che una volta definito un record type, __non__ possiamo definire altre funzioni che hanno lo stesso nome di uno dei suoi campi, né altri record con campi con lo stesso nome. \n",
    "Provando a farlo, otterremo un errore a tempo di compilazione.\n",
    "Per capire meglio, utilizziamo un tipo definito la scorsa volta, `Persona` (che ci richiede anche di ridefinire un altro tipo, `Sesso`):"
   ]
  },
  {
   "cell_type": "code",
   "execution_count": 1,
   "id": "75996dad",
   "metadata": {},
   "outputs": [
    {
     "ename": "",
     "evalue": "",
     "output_type": "error",
     "traceback": [
      "<interactive>:11:5: error:\n    Multiple declarations of ‘nome’\n    Declared at: <interactive>:2:5\n                 <interactive>:11:5"
     ]
    }
   ],
   "source": [
    "data Persona = Persona {\n",
    "    nome :: String,\n",
    "    eta :: Int,\n",
    "    sesso :: Sesso } \n",
    "    deriving Show \n",
    "    \n",
    "data Sesso = Maschio | Femmina\n",
    "    deriving Show\n",
    "    \n",
    "nome :: Persona -> String\n",
    "nome = undefined\n",
    "\n",
    "data AnimaleDomestico = AnimaleDomestico {\n",
    "    nome :: String,\n",
    "    specie :: String }"
   ]
  },
  {
   "cell_type": "markdown",
   "id": "84e81042",
   "metadata": {},
   "source": [
    "### 2. Lasciare un campo non inizializzato è una cattiva idea\n",
    "Se __non__ inizializziamo un campo, come nel seguente esempio, otterremo invece un semplice warning:"
   ]
  },
  {
   "cell_type": "code",
   "execution_count": 2,
   "id": "96e35b99",
   "metadata": {},
   "outputs": [
    {
     "ename": "",
     "evalue": "",
     "output_type": "error",
     "traceback": [
      "<interactive>:1:5: error: Not in scope: data constructor ‘Persona’\n<interactive>:2:5: error: Not in scope: ‘nome’\n<interactive>:3:5: error: Not in scope: ‘eta’"
     ]
    }
   ],
   "source": [
    "d = Persona {\n",
    "    nome = \"Davide\",\n",
    "    eta = 20 }"
   ]
  },
  {
   "cell_type": "markdown",
   "id": "691ba740",
   "metadata": {},
   "source": [
    "... o almeno, così si comporta il mio `ghci`. A quanto pare, i notebook sono ancora più severi! In `ghci`, ad ogni modo, inizializzare `d` come sopra sarebbe tutto sommato valido. Il problema è che chiamare `sesso d` risulterebbe in un temutissimo errore a tempo di esecuzione (output della mia console):\n",
    "\n",
    "```\n",
    "ghci> sesso d\n",
    "*** Exception: Ep11.hs:(21,5)-(23,14): Missing field in record construction \n",
    "```\n",
    "\n",
    "Attenzione quindi a non aspettarsi un semplice `NULL` in risposta e a non fare mai niente del genere."
   ]
  },
  {
   "cell_type": "markdown",
   "id": "acb169cd",
   "metadata": {},
   "source": [
    "## Tipi parametrici\n",
    "L'errore di cui sopra può forse far sorgere il dubbio che il riferimento a `NULL` presente nella stragrande maggioranza dei linguaggi di programmazione non sia un'idea tanto cattiva. Ovviamente però _lo è_, e in Haskell possiamo trovare una soluzione migliore per indicare l'assenza di un valore definendo un _tipo parametrico_.\n",
    "\n",
    "Un tipo parametrico è un tipo il cui costruttore (o i cui costruttori) contiene (o contengono) un parametro. Attenzione: per _costruttore di un tipo_ intendiamo quello che si trova __a sinistra__ dell' `=`.  \n",
    "\n",
    "Per esempio:"
   ]
  },
  {
   "cell_type": "code",
   "execution_count": 3,
   "id": "03471bc1",
   "metadata": {},
   "outputs": [],
   "source": [
    "data Forse a = Proprio a | Niente\n",
    "    deriving Show -- ci servirà dopo per poter \"vedere\" questo tipo istanziato"
   ]
  },
  {
   "cell_type": "markdown",
   "id": "1029069c",
   "metadata": {},
   "source": [
    "In questo esempio, `Niente` indica l'assenza di un valore, costruendo un valore \"nullo\". Una formulazione alternativa potrebbe essere quella in cui definiamo un tipo forse \"pieno\" e forse \"vuoto\":"
   ]
  },
  {
   "cell_type": "code",
   "execution_count": 4,
   "id": "0b2d41c8",
   "metadata": {},
   "outputs": [],
   "source": [
    "data Forse' a = Pieno a | Vuoto\n",
    "    deriving Show"
   ]
  },
  {
   "cell_type": "markdown",
   "id": "b5d3fcc6",
   "metadata": {},
   "source": [
    "Usando `Forse`, possiamo ridefinire `Persona` come segue: "
   ]
  },
  {
   "cell_type": "code",
   "execution_count": 5,
   "id": "4380e4a2",
   "metadata": {},
   "outputs": [],
   "source": [
    "data Persona' = Persona' {\n",
    "    nome' :: String,\n",
    "    eta' :: Int,\n",
    "    sesso' :: Forse Sesso }\n",
    "    deriving Show \n",
    "    \n",
    "data Sesso = Maschio | Femmina\n",
    "    deriving Show"
   ]
  },
  {
   "cell_type": "markdown",
   "id": "55338a6e",
   "metadata": {},
   "source": [
    "E finalmente creare una `Persona` dal `Sesso` non specificato:"
   ]
  },
  {
   "cell_type": "code",
   "execution_count": 6,
   "id": "6ea14310",
   "metadata": {},
   "outputs": [],
   "source": [
    "d' = Persona' {\n",
    "    nome' = \"Davide\",\n",
    "    eta' = 20,\n",
    "    sesso' = Niente }"
   ]
  },
  {
   "cell_type": "markdown",
   "id": "7257ffa5",
   "metadata": {},
   "source": [
    "### Tipi parametrici \"illustri\"\n",
    "Alcuni tipi parametrici ampiamente utilizzati in Haskell sono i seguenti:\n",
    "- [`Maybe`](https://hackage.haskell.org/package/base-4.15.0.0/docs/Data-Maybe.html), di cui `Forse` è la \"traduzione italiana\"\n",
    "- [`Either`](https://hackage.haskell.org/package/base-4.15.0.0/docs/Data-Either.html), per certi versi simile a `Maybe`, spesso usato per la gestione degli errori\n",
    "- [`Map`](https://hackage.haskell.org/package/containers-0.6.5.1/docs/Data-Map.html), molto simile ai [dizionari di Python](https://docs.python.org/3/tutorial/datastructures.html#dictionaries)\n",
    "- ...e le liste, che semplicemente hanno un costruttore \"curioso\" (le parentesi quadre)\n",
    "\n",
    "## Altre parole chiave per la definizione di nuovi tipi\n",
    "\n",
    "### `type`\n",
    "`type` serve a definire _type synonym_, ossia (letteralmente!) __sinonimi di tipi preesistenti__ (anche definiti da noi nello stesso modulo). E' spesso utile per distinguere stringhe (o altro) con usi diversi. Per esempio, pensando all'esempio precedente potremmo voler definire i seguenti sinonimi:"
   ]
  },
  {
   "cell_type": "code",
   "execution_count": 7,
   "id": "4fd9efa9",
   "metadata": {},
   "outputs": [],
   "source": [
    "type Nome = String\n",
    "type Cognome = String\n",
    "type Eta = Int"
   ]
  },
  {
   "cell_type": "markdown",
   "id": "10937d3f",
   "metadata": {},
   "source": [
    "`Persona` potrebbe quindi essere ri-ri-ri-ri definito come:"
   ]
  },
  {
   "cell_type": "code",
   "execution_count": 8,
   "id": "f4572e8e",
   "metadata": {},
   "outputs": [],
   "source": [
    "data Persona''' = Persona''' {\n",
    "    nome''' :: Nome,\n",
    "    cognome :: Cognome,\n",
    "    eta''' :: Eta,\n",
    "    sesso''' :: Maybe Sesso } -- usando la versione \"standard\" di Forse\n",
    "    deriving Show\n",
    "    \n",
    "data Sesso = Maschio | Femmina\n",
    "    deriving Show"
   ]
  },
  {
   "cell_type": "markdown",
   "id": "fa893b02",
   "metadata": {},
   "source": [
    "### `newtype`\n",
    "Con `newtype` possiamo invece definire __nuovi tipi con un solo costruttore e un solo parametro__, come"
   ]
  },
  {
   "cell_type": "code",
   "execution_count": 9,
   "id": "943cb95c",
   "metadata": {},
   "outputs": [],
   "source": [
    "newtype Gruppo a = Gruppo [a]"
   ]
  },
  {
   "cell_type": "markdown",
   "id": "268ab44d",
   "metadata": {},
   "source": [
    "A prima vista, questo può sembrare inutile, ma ha senso se vogliamo ad es. definire comportamenti particolari per, in questo caso, un certo tipo di liste (ad es. per istanziarne uno `Show` personalizzato). Vedremo presto come farlo.\n",
    "\n",
    "Chiaramente, nulla ci impedisce di utilizzare il caro vecchio `data`. Il comportamento sarà lo stesso dal p.d.v. della logica ma il vostro linter (sempre che ne abbiate installato uno) vi suggerirà di utilizzare type per questioni di ottimizzazione:"
   ]
  },
  {
   "cell_type": "code",
   "execution_count": 10,
   "id": "a492a356",
   "metadata": {},
   "outputs": [
    {
     "data": {
      "text/html": [
       "<style>/* Styles used for the Hoogle display in the pager */\n",
       ".hoogle-doc {\n",
       "display: block;\n",
       "padding-bottom: 1.3em;\n",
       "padding-left: 0.4em;\n",
       "}\n",
       ".hoogle-code {\n",
       "display: block;\n",
       "font-family: monospace;\n",
       "white-space: pre;\n",
       "}\n",
       ".hoogle-text {\n",
       "display: block;\n",
       "}\n",
       ".hoogle-name {\n",
       "color: green;\n",
       "font-weight: bold;\n",
       "}\n",
       ".hoogle-head {\n",
       "font-weight: bold;\n",
       "}\n",
       ".hoogle-sub {\n",
       "display: block;\n",
       "margin-left: 0.4em;\n",
       "}\n",
       ".hoogle-package {\n",
       "font-weight: bold;\n",
       "font-style: italic;\n",
       "}\n",
       ".hoogle-module {\n",
       "font-weight: bold;\n",
       "}\n",
       ".hoogle-class {\n",
       "font-weight: bold;\n",
       "}\n",
       ".get-type {\n",
       "color: green;\n",
       "font-weight: bold;\n",
       "font-family: monospace;\n",
       "display: block;\n",
       "white-space: pre-wrap;\n",
       "}\n",
       ".show-type {\n",
       "color: green;\n",
       "font-weight: bold;\n",
       "font-family: monospace;\n",
       "margin-left: 1em;\n",
       "}\n",
       ".mono {\n",
       "font-family: monospace;\n",
       "display: block;\n",
       "}\n",
       ".err-msg {\n",
       "color: red;\n",
       "font-style: italic;\n",
       "font-family: monospace;\n",
       "white-space: pre;\n",
       "display: block;\n",
       "}\n",
       "#unshowable {\n",
       "color: red;\n",
       "font-weight: bold;\n",
       "}\n",
       ".err-msg.in.collapse {\n",
       "padding-top: 0.7em;\n",
       "}\n",
       ".highlight-code {\n",
       "white-space: pre;\n",
       "font-family: monospace;\n",
       "}\n",
       ".suggestion-warning { \n",
       "font-weight: bold;\n",
       "color: rgb(200, 130, 0);\n",
       "}\n",
       ".suggestion-error { \n",
       "font-weight: bold;\n",
       "color: red;\n",
       "}\n",
       ".suggestion-name {\n",
       "font-weight: bold;\n",
       "}\n",
       "</style><div class=\"suggestion-name\" style=\"clear:both;\">Use newtype instead of data</div><div class=\"suggestion-row\" style=\"float: left;\"><div class=\"suggestion-warning\">Found:</div><div class=\"highlight-code\" id=\"haskell\">data Gruppo a = Gruppo [a]</div></div><div class=\"suggestion-row\" style=\"float: left;\"><div class=\"suggestion-warning\">Why Not:</div><div class=\"highlight-code\" id=\"haskell\">newtype Gruppo a = Gruppo [a]</div></div>"
      ],
      "text/plain": [
       "Line 1: Use newtype instead of data\n",
       "Found:\n",
       "data Gruppo a = Gruppo [a]\n",
       "Why not:\n",
       "newtype Gruppo a = Gruppo [a]"
      ]
     },
     "metadata": {},
     "output_type": "display_data"
    }
   ],
   "source": [
    "data Gruppo a = Gruppo [a]"
   ]
  },
  {
   "cell_type": "markdown",
   "id": "8674401d",
   "metadata": {},
   "source": [
    "Dalla Haskell Wiki (articolo completo disponibile [qui](wiki.haskell.org/Newtype)) in traduzione, per chi fosse interessato e avesse già chiaro il concetto di type checker:\n",
    "   \n",
    "   > La restrizione a un solo costruttore con un solo campo assicura che il \n",
    "   nuovo tipo e il tipo del suo campo siano in corrispondenza diretta, o in\n",
    "   termini matematici che essi [il tipo e il suo campo] siano isomorfi.\n",
    "   Ciò significa che, dopo il type checking a tempo di compilazione, a tempo\n",
    "   di esecuzione i due tipi possono essere trattati sostanzialmente nello\n",
    "   stesso modo [...]. Quindi, se l'obiettivo è dichiarare diverse istanze di\n",
    "   una type class per un certo tipo, lo si può \"avvolgere\" [wrap] in un\n",
    "   newtype in modo che sia considerato come un tipo distinto dal \n",
    "   type-checker, ma come identico al suo campo a runtime. "
   ]
  }
 ],
 "metadata": {
  "kernelspec": {
   "display_name": "Haskell",
   "language": "haskell",
   "name": "haskell"
  },
  "language_info": {
   "codemirror_mode": "ihaskell",
   "file_extension": ".hs",
   "mimetype": "text/x-haskell",
   "name": "haskell",
   "pygments_lexer": "Haskell",
   "version": "8.10.7"
  }
 },
 "nbformat": 4,
 "nbformat_minor": 5
}

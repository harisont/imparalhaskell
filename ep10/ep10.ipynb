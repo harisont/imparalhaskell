{
 "cells": [
  {
   "cell_type": "markdown",
   "id": "997acd9d",
   "metadata": {},
   "source": [
    "# Episodio 10: definire nuovi tipi, parte 1"
   ]
  },
  {
   "cell_type": "markdown",
   "id": "c28b854e",
   "metadata": {},
   "source": [
    "Gli esempi qui sotto possono essere eseguiti copiandoli nell'interprete di Haskell, il `ghci`. Se vuoi eseguire direttamente questo notebook, le istruzioni su come farlo sono disponibili a [questo](https://github.com/gibiansky/IHaskell) link."
   ]
  },
  {
   "cell_type": "markdown",
   "id": "1957795a",
   "metadata": {},
   "source": [
    "Basandoci sulle nostre attuali conoscenze, potremmo essere tentati di rappresentare una persona (interessandoci ad esempio di nome, età e sesso, con una tupla di tre elementi:"
   ]
  },
  {
   "cell_type": "code",
   "execution_count": 1,
   "id": "b4cf8670",
   "metadata": {},
   "outputs": [],
   "source": [
    "m0 = (\"Marco\", 28, 'M')"
   ]
  },
  {
   "cell_type": "markdown",
   "id": "97dd5774",
   "metadata": {},
   "source": [
    "Questa rappresentazione ha però almeno 3 problemi:\n",
    "\n",
    "1. il sesso è rappresentato con un carattere, per cui se anche le due opzioni valide dal punto di vista della logica del programma fossero 2, `'M'` ed `'F'`, il compilatore accetterebbe tranquillamente anche altri caratteri, ad esempio `'Q'`\n",
    "2. ogni volta che dobbiamo definire una nuova \"persona\" dobbiamo ricordarci di mettere i suoi dati nello stesso ordine, in modo che persone diverse siano poi dello stesso tipo\n",
    "3. quelli che in un linguaggio a oggetti sarebbero gli attributi della classe \"persona\" (e se è per questo neanche il tipo stesso!) non hanno un nome, il che rende difficile identificarli.\n",
    "\n",
    "Definiamo quindi un nuovo tipo di dato:"
   ]
  },
  {
   "cell_type": "code",
   "execution_count": 2,
   "id": "9cc0e0fd",
   "metadata": {},
   "outputs": [],
   "source": [
    "data Persona = Persona String Int Char"
   ]
  },
  {
   "cell_type": "markdown",
   "id": "8b524be5",
   "metadata": {},
   "source": [
    "Abbiamo ora specificato il nome del nuovo tipo (`Persona`, a sinistra dell'uguale) e i tipi (`String`, `Int` e `Char`) dei parametri del suo costruttore, che si chiama a sua volta (ma non obbligatoriamente) `Persona` (a destra dell'uguale.\n",
    "\n",
    "Possiamo quindi ridefinire il nostro Marco come:"
   ]
  },
  {
   "cell_type": "code",
   "execution_count": 3,
   "id": "3403daf5",
   "metadata": {},
   "outputs": [],
   "source": [
    "m = Persona \"Marco\" 28 'M'"
   ]
  },
  {
   "cell_type": "markdown",
   "id": "d4982d2b",
   "metadata": {},
   "source": [
    "Ma rimangono da risolvere i problemi sopra elencati (senonché il tipo ha ora un suo nome, `Persona`). Per esempio, dobbiamo ricordarci di scrivere i parametri nell'ordine corretto."
   ]
  },
  {
   "cell_type": "code",
   "execution_count": 5,
   "id": "1e164185",
   "metadata": {},
   "outputs": [
    {
     "ename": "",
     "evalue": "",
     "output_type": "error",
     "traceback": [
      "<interactive>:1:28: error:\n    • Couldn't match type ‘Char’ with ‘String’\n      Expected type: String\n        Actual type: Char\n    • In the first argument of ‘Persona’, namely ‘'M'’\n      In the expression: Persona 'M' \"Marco\" 28\n      In an equation for ‘mOrdineSbagliato’: mOrdineSbagliato = Persona 'M' \"Marco\" 28\n<interactive>:1:32: error:\n    • Couldn't match expected type ‘Int’ with actual type ‘String’\n    • In the second argument of ‘Persona’, namely ‘\"Marco\"’\n      In the expression: Persona 'M' \"Marco\" 28\n      In an equation for ‘mOrdineSbagliato’: mOrdineSbagliato = Persona 'M' \"Marco\" 28"
     ]
    }
   ],
   "source": [
    "mOrdineSbagliato = Persona 'M' \"Marco\" 28"
   ]
  },
  {
   "cell_type": "markdown",
   "id": "7ca1b9c7",
   "metadata": {},
   "source": [
    "## Un tipo per rappresentare il sesso\n",
    "Definiamo ora un tipo _ad hoc_ per il sesso:"
   ]
  },
  {
   "cell_type": "code",
   "execution_count": 6,
   "id": "046d86f4",
   "metadata": {},
   "outputs": [],
   "source": [
    "data Sesso = Maschio | Femmina\n",
    "    deriving Show -- ignora questa parte per ora - serve solo per rendere il tipo \"mostrabile\""
   ]
  },
  {
   "cell_type": "markdown",
   "id": "82aa1d6f",
   "metadata": {},
   "source": [
    "Abbiamo definito un tipo, `Sesso`, con due costruttori senza parametri `Maschio` e `Femmina`. E' come dire \n",
    "\n",
    "> Il `Sesso` biologico di una persona può essere `Maschio` o `Femmina`.\n",
    "\n",
    "Ridefinire `Persona` utilizzando questo nuovo tipo è semplicissimo:"
   ]
  },
  {
   "cell_type": "code",
   "execution_count": 9,
   "id": "064efaaf",
   "metadata": {},
   "outputs": [],
   "source": [
    "data Persona' = Persona' String Int Sesso"
   ]
  },
  {
   "cell_type": "code",
   "execution_count": 16,
   "id": "47636cdc",
   "metadata": {},
   "outputs": [],
   "source": [
    "m' = Persona' \"Marco\" 28 Maschio"
   ]
  },
  {
   "cell_type": "markdown",
   "id": "f44e2720",
   "metadata": {},
   "source": [
    "## La record notation\n",
    "Volendo poter scegliere l'ordine e dare dei nomi ai parametri del costruttore di `Persona`, possiamo usare una sintassi alternativa per la sua definizione:"
   ]
  },
  {
   "cell_type": "code",
   "execution_count": 25,
   "id": "11e18362",
   "metadata": {},
   "outputs": [],
   "source": [
    "data Persona'' = Persona'' {\n",
    "    nome :: String,\n",
    "    eta :: Int,\n",
    "    sesso :: Sesso } \n",
    "    deriving Show -- idem con patate"
   ]
  },
  {
   "cell_type": "code",
   "execution_count": 26,
   "id": "ecd7bbc8",
   "metadata": {},
   "outputs": [],
   "source": [
    "m'' = Persona'' {\n",
    "    nome = \"Marco\",\n",
    "    sesso = Maschio,\n",
    "    eta = 28 }"
   ]
  },
  {
   "cell_type": "markdown",
   "id": "ff4f2ffa",
   "metadata": {},
   "source": [
    "Ora che hanno un nome, i parametri non devono più essere per forza ordinati:"
   ]
  },
  {
   "cell_type": "code",
   "execution_count": 34,
   "id": "fe74425a",
   "metadata": {},
   "outputs": [],
   "source": [
    "c = Persona'' {\n",
    "    sesso = Femmina,\n",
    "    nome = \"Caterina\",\n",
    "    eta = 15 }"
   ]
  },
  {
   "cell_type": "markdown",
   "id": "ae22a692",
   "metadata": {},
   "source": [
    "I \"campi\" del nostro tipo `Persona` corrispondono a funzioni che Haskell crea automaticamente. Queste funzioni sono di tipo `Persona -> TipoDelParametro`. Di conseguenza possiamo accedere ad esempio all'età di Caterina (quello che in un linguaggio a oggetti faremmo con `c.eta`) scrivendo"
   ]
  },
  {
   "cell_type": "code",
   "execution_count": 35,
   "id": "f60e2edf",
   "metadata": {},
   "outputs": [
    {
     "data": {
      "text/plain": [
       "15"
      ]
     },
     "metadata": {},
     "output_type": "display_data"
    }
   ],
   "source": [
    "eta c"
   ]
  },
  {
   "cell_type": "markdown",
   "id": "71e0dafc",
   "metadata": {},
   "source": [
    "## Una funzione che opera su persone"
   ]
  },
  {
   "cell_type": "code",
   "execution_count": 28,
   "id": "7478680a",
   "metadata": {},
   "outputs": [],
   "source": [
    "maggiorenne :: Persona'' -> Bool\n",
    "maggiorenne p = eta p >= 18"
   ]
  },
  {
   "cell_type": "code",
   "execution_count": 32,
   "id": "cfca4eb9",
   "metadata": {},
   "outputs": [
    {
     "data": {
      "text/plain": [
       "True"
      ]
     },
     "metadata": {},
     "output_type": "display_data"
    }
   ],
   "source": [
    "maggiorenne m''"
   ]
  },
  {
   "cell_type": "code",
   "execution_count": 33,
   "id": "ad952c3f",
   "metadata": {},
   "outputs": [
    {
     "data": {
      "text/plain": [
       "False"
      ]
     },
     "metadata": {},
     "output_type": "display_data"
    }
   ],
   "source": [
    "maggiorenne c"
   ]
  }
 ],
 "metadata": {
  "kernelspec": {
   "display_name": "Haskell",
   "language": "haskell",
   "name": "haskell"
  },
  "language_info": {
   "codemirror_mode": "ihaskell",
   "file_extension": ".hs",
   "mimetype": "text/x-haskell",
   "name": "haskell",
   "pygments_lexer": "Haskell",
   "version": "8.6.5"
  }
 },
 "nbformat": 4,
 "nbformat_minor": 5
}

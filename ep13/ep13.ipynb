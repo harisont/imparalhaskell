{
 "cells": [
  {
   "cell_type": "markdown",
   "id": "5dcb247b",
   "metadata": {},
   "source": [
    "# Episodio 13: definizione e istanziamento di typeclass, parte 1\n",
    "Gli esempi qui sotto possono essere eseguiti copiandoli nell'interprete di Haskell, il `ghci`. Se vuoi eseguire direttamente questo notebook, le istruzioni su come farlo sono disponibili a [questo](https://github.com/gibiansky/IHaskell) link.\n",
    "\n",
    "Nella scorsa lezione, abbiamo istanziato una typeclass preesistente, `Show`. Abbiamo anche visto la sintassi per definire nuove typeclass. In questa lezione vedremo un esempio pratico di definizione ed istanziamento di una typeclass non standard, ovvero di una typeclass che non è definita sotto altro nome in nessuna delle librerie di Haskell di uso comune.\n",
    "L'esempio è fortemente ispirato alla [typeclass `YesNo` di _Learn You A Haskell, For Great Good!_](http://learnyouahaskell.com/making-our-own-types-and-typeclasses#a-yes-no-typeclass), che prende spunto a sua volta da alcune cose che si possono fare in linguaggi debolmente tipizzati come il JavaScript e il Python, ma che il fortissimo type system di Haskell non permette.\n",
    "\n",
    "## La caratteristica del Python che cercheremo di imitare\n",
    "In Python, è possibile scrivere condizionali come il seguente:\n",
    "\n",
    "```python\n",
    "if stringa:\n",
    "    print(stringa)\n",
    "else:\n",
    "    print(\"mi dispiace, la stringa è vuota!\")\n",
    "```\n",
    "\n",
    "(o, come ho scritto in una linea nel video, `print(stringa if stringa else \"mi dispiace, la stringa è vuota\")`).\n",
    "\n",
    "Il comportamento di questo codice varia a seconda che la stringa sia vuota (`\"\"`) o \"piena\" (per es. `\"ciao\"`). Nel primo il risultato sarà un bel `mi dispiace, la stringa è vuota!`, mentre se la stringa non è vuota ne verrà visualizzato il contenuto.\n",
    "Questo significa che, in un `if`, le stringhe vengono trattate un po' come booleani: se vuote, vengono considerate \"false\", altrimenti \"vere\".\n",
    "\n",
    "Questo ragionamento si applica non solo alle stringhe, ma a quasi tutti i tipi: numeri, liste, dizionari...\n",
    "\n",
    "## Una typeclass \"booleaneggiante\" in Haskell\n",
    "Con la premessa che il rendere confrontabili booleani con tipi arbitrari é a mio avviso un'idea __nefasta__, cercheremo di replicare questa feature in Haskell tramite una typeclass, che chiameremo `Verificabile`. Questa typeclass avrà due funzioni, `verificato` e `falsificato`, definite l'una in termini dell'altra in modo che, all'istanziamento, sia sufficiente specificare il comportamento di solo una delle due per poter ottenere automaticamente anche l'altra:"
   ]
  },
  {
   "cell_type": "code",
   "execution_count": 20,
   "id": "bdf51e30",
   "metadata": {},
   "outputs": [],
   "source": [
    "class Verificabile a where\n",
    "    verificato :: a -> Bool\n",
    "    verificato a = not (falsificato a)\n",
    "\n",
    "    falsificato :: a -> Bool\n",
    "    falsificato a = not (verificato a) "
   ]
  },
  {
   "cell_type": "markdown",
   "id": "16112d4e",
   "metadata": {},
   "source": [
    "La variabile di tipo `a`, senza alcun constraint, significa che qualunque tipo può essere istanza di `Verificabile`.\n",
    "Il \"default\" di `verificato` è definito come l'opposto di `falsificato` e viceversa.\n",
    "\n",
    "## Istanziamento di `Verificabile`\n",
    "\n",
    "### Bool\n",
    "Per prima cosa, ovviamente, rendiamo `Bool` istanza di `Verificabile`:"
   ]
  },
  {
   "cell_type": "markdown",
   "id": "7dd7069b",
   "metadata": {},
   "source": []
  },
  {
   "cell_type": "code",
   "execution_count": 21,
   "id": "c214bbe2",
   "metadata": {},
   "outputs": [],
   "source": [
    "instance Verificabile Bool where\n",
    "    verificato True = True\n",
    "    verificato False = False"
   ]
  },
  {
   "cell_type": "markdown",
   "id": "3e3d38f5",
   "metadata": {},
   "source": [
    "Facile, no? Come anticipato, non é necessario definire anche `falsificato` per via della definizione che abbiamo scritto all'interno della typeclass stessa. Difatti possiamo scrivere:"
   ]
  },
  {
   "cell_type": "code",
   "execution_count": 22,
   "id": "756658d1",
   "metadata": {},
   "outputs": [
    {
     "data": {
      "text/plain": [
       "False"
      ]
     },
     "metadata": {},
     "output_type": "display_data"
    }
   ],
   "source": [
    "falsificato True"
   ]
  },
  {
   "cell_type": "code",
   "execution_count": 23,
   "id": "51a79de7",
   "metadata": {},
   "outputs": [
    {
     "data": {
      "text/plain": [
       "True"
      ]
     },
     "metadata": {},
     "output_type": "display_data"
    }
   ],
   "source": [
    "falsificato False"
   ]
  },
  {
   "cell_type": "markdown",
   "id": "68e319de",
   "metadata": {},
   "source": [
    "Passiamo ora ad istanziare la nostra nuova typeclass per altri tipi di dato.\n",
    "\n",
    "### Int"
   ]
  },
  {
   "cell_type": "code",
   "execution_count": 24,
   "id": "5853a9b0",
   "metadata": {},
   "outputs": [],
   "source": [
    "instance Verificabile Int where\n",
    "    verificato 0 = False\n",
    "    verificato _ = True"
   ]
  },
  {
   "cell_type": "code",
   "execution_count": 25,
   "id": "6216447f",
   "metadata": {},
   "outputs": [],
   "source": [
    "n = 0 :: Int\n",
    "n' = 15 :: Int"
   ]
  },
  {
   "cell_type": "code",
   "execution_count": 26,
   "id": "63dfcdc8",
   "metadata": {},
   "outputs": [
    {
     "data": {
      "text/plain": [
       "False"
      ]
     },
     "metadata": {},
     "output_type": "display_data"
    }
   ],
   "source": [
    "verificato n"
   ]
  },
  {
   "cell_type": "code",
   "execution_count": 27,
   "id": "7c86c19e",
   "metadata": {},
   "outputs": [
    {
     "data": {
      "text/plain": [
       "True"
      ]
     },
     "metadata": {},
     "output_type": "display_data"
    }
   ],
   "source": [
    "verificato n'"
   ]
  },
  {
   "cell_type": "markdown",
   "id": "c1205040",
   "metadata": {},
   "source": [
    "### Liste"
   ]
  },
  {
   "cell_type": "code",
   "execution_count": 28,
   "id": "f6a9ea2a",
   "metadata": {},
   "outputs": [],
   "source": [
    "instance Verificabile [a] where\n",
    "    verificato [] = False\n",
    "    verificato _ = True"
   ]
  },
  {
   "cell_type": "code",
   "execution_count": 29,
   "id": "49fc3ea1",
   "metadata": {},
   "outputs": [
    {
     "data": {
      "text/plain": [
       "False"
      ]
     },
     "metadata": {},
     "output_type": "display_data"
    }
   ],
   "source": [
    "verificato []"
   ]
  },
  {
   "cell_type": "code",
   "execution_count": 30,
   "id": "fe92a73c",
   "metadata": {},
   "outputs": [
    {
     "data": {
      "text/plain": [
       "True"
      ]
     },
     "metadata": {},
     "output_type": "display_data"
    }
   ],
   "source": [
    "verificato [1,2,3]"
   ]
  },
  {
   "cell_type": "markdown",
   "id": "4b7e708b",
   "metadata": {},
   "source": [
    "Ovviamente, questo fa sì che `verificato` e `falsificato` funzionino anche per le stringhe, che sono liste di caratteri. Di conseguenza, possiamo replicare l'esempio che abbiamo visto all'inizio in Python:"
   ]
  },
  {
   "cell_type": "code",
   "execution_count": 31,
   "id": "344260fe",
   "metadata": {},
   "outputs": [],
   "source": [
    "esempioPython stringa = \n",
    "    if verificato stringa -- particamente basta aggiungere un \"verificato\" qui\n",
    "        then putStrLn stringa\n",
    "        else putStrLn \"mi dispiace, la stringa è vuota!\""
   ]
  },
  {
   "cell_type": "markdown",
   "id": "c9132b55",
   "metadata": {},
   "source": [
    "(NB: equivalentemente ma in una sola riga, in GHCI ho scritto `putStrLn (if verificato stringa then stringa else \"mi dispiace, la stringa è vuota\")`)"
   ]
  },
  {
   "cell_type": "code",
   "execution_count": 32,
   "id": "2ce6737b",
   "metadata": {},
   "outputs": [
    {
     "data": {
      "text/plain": [
       "ciao"
      ]
     },
     "metadata": {},
     "output_type": "display_data"
    }
   ],
   "source": [
    "esempioPython \"ciao\""
   ]
  },
  {
   "cell_type": "code",
   "execution_count": 33,
   "id": "fbc74922",
   "metadata": {},
   "outputs": [
    {
     "data": {
      "text/plain": [
       "mi dispiace, la stringa è vuota!"
      ]
     },
     "metadata": {},
     "output_type": "display_data"
    }
   ],
   "source": [
    "esempioPython \"\""
   ]
  },
  {
   "cell_type": "markdown",
   "id": "302c6e51",
   "metadata": {},
   "source": [
    "### Maybe"
   ]
  },
  {
   "cell_type": "code",
   "execution_count": 34,
   "id": "32f3f937",
   "metadata": {},
   "outputs": [],
   "source": [
    "instance Verificabile (Maybe a) where\n",
    "    verificato Nothing = False\n",
    "    verificato _ = True"
   ]
  },
  {
   "cell_type": "code",
   "execution_count": 35,
   "id": "0ac53e08",
   "metadata": {},
   "outputs": [
    {
     "data": {
      "text/plain": [
       "False"
      ]
     },
     "metadata": {},
     "output_type": "display_data"
    }
   ],
   "source": [
    "verificato Nothing"
   ]
  },
  {
   "cell_type": "code",
   "execution_count": 36,
   "id": "2a227d0d",
   "metadata": {},
   "outputs": [
    {
     "data": {
      "text/plain": [
       "True"
      ]
     },
     "metadata": {},
     "output_type": "display_data"
    }
   ],
   "source": [
    "verificato (Just \"ciao\")"
   ]
  },
  {
   "cell_type": "code",
   "execution_count": 37,
   "id": "24029bee",
   "metadata": {},
   "outputs": [
    {
     "data": {
      "text/plain": [
       "True"
      ]
     },
     "metadata": {},
     "output_type": "display_data"
    }
   ],
   "source": [
    "falsificato Nothing"
   ]
  },
  {
   "cell_type": "code",
   "execution_count": 38,
   "id": "655b5f97",
   "metadata": {},
   "outputs": [
    {
     "data": {
      "text/plain": [
       "False"
      ]
     },
     "metadata": {},
     "output_type": "display_data"
    }
   ],
   "source": [
    "falsificato (Just \"ciao\")"
   ]
  }
 ],
 "metadata": {
  "kernelspec": {
   "display_name": "Haskell",
   "language": "haskell",
   "name": "haskell"
  },
  "language_info": {
   "codemirror_mode": "ihaskell",
   "file_extension": ".hs",
   "mimetype": "text/x-haskell",
   "name": "haskell",
   "pygments_lexer": "Haskell",
   "version": "8.10.7"
  }
 },
 "nbformat": 4,
 "nbformat_minor": 5
}

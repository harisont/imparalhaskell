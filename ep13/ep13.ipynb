{
 "cells": [
  {
   "cell_type": "markdown",
   "id": "5dcb247b",
   "metadata": {},
   "source": [
    "# Episodio 12: definizione e istanziamento di typeclass, parte 1\n",
    "Gli esempi qui sotto possono essere eseguiti copiandoli nell'interprete di Haskell, il `ghci`. Se vuoi eseguire direttamente questo notebook, le istruzioni su come farlo sono disponibili a [questo](https://github.com/gibiansky/IHaskell) link.\n",
    "\n",
    "Nella scorsa lezione, abbiamo istanziato una typeclass preesistente, `Show`. Abbiamo anche visto la sintassi per definire nuove typeclass. In questa lezione vedremo un esempio pratico di definizione ed istanziamento di una typeclass non standard, ovvero di una typeclass che non è definita sotto altro nome in nessuna delle librerie di Haskell di uso comune.\n",
    "L'esempio è fortemente ispirato alla [typeclass `YesNo` di _Learn You A Haskell, For Great Good!_](http://learnyouahaskell.com/making-our-own-types-and-typeclasses#a-yes-no-typeclass), che prende spunto a sua volta da alcune cose che si possono fare in linguaggi debolmente tipizzati come il JavaScript e il Python, ma che il fortissimo type system di Haskell non permette.\n",
    "\n",
    "## La caratteristica del Python che cercheremo di imitare\n",
    "In Python, è possibile scrivere condizionali come il seguente:\n",
    "\n",
    "```python\n",
    "if stringa:\n",
    "    print(stringa)\n",
    "else:\n",
    "    print(\"mi dispiace, la stringa è vuota!\")\n",
    "```\n",
    "\n",
    "Il comportamento di questo codice varia a seconda che la stringa sia vuota (`\"\"`) o \"piena\" (per es. `\"ciao\"`). Nel primo il risultato sarà un bel `mi dispiace, la stringa è vuota!`, mentre se la stringa non è vuota ne verrà visualizzato il contenuto.\n",
    "Questo significa che, in un `if`, le stringhe vengono trattate un po' come booleani: se vuote, vengono considerate \"false\", altrimenti \"vere\".\n",
    "\n",
    "Questo ragionamento si applica non solo alle stringhe, ma a quasi tutti i tipi: numeri, liste, dizionari...\n",
    "\n",
    "## Una typeclass \"booleaneggiante\" in Haskell\n",
    "Con la premessa che il rendere confrontabili booleani con tipi arbitrari é a mio avviso un'idea __nefasta__, cercheremo di replicare questa feature in Haskell tramite una typeclass, che chiameremo `Booleaneggiante`. Questa typeclass avrà due funzioni, `veruccio` e `falsuccio`, definite l'una in termini dell'altra in modo che, all'istanziamento, sia sufficiente specificare il comportamento di solo una delle due per poter ottenere automaticamente anche l'altra:"
   ]
  },
  {
   "cell_type": "code",
   "execution_count": 23,
   "id": "bdf51e30",
   "metadata": {},
   "outputs": [],
   "source": [
    "class Booleaneggiante a where\n",
    "    veruccio :: a -> Bool\n",
    "    veruccio a = not (falsuccio a)\n",
    "\n",
    "    falsuccio :: a -> Bool\n",
    "    falsuccio a = not (veruccio a) "
   ]
  },
  {
   "cell_type": "markdown",
   "id": "16112d4e",
   "metadata": {},
   "source": [
    "La variabile di tipo `a`, senza alcun constraint, significa che qualunque tipo può essere istanza di `Booleaneggiante`.\n",
    "Il \"default\" di `veruccio` è definito come l'opposto di `falsuccio` e viceversa.\n",
    "\n",
    "## Istanziamento di `Booleaneggiante`\n",
    "\n",
    "### Bool\n",
    "Per prima cosa, ovviamente, rendiamo `Bool` istanza di `Booleaneggiante`:"
   ]
  },
  {
   "cell_type": "markdown",
   "id": "7dd7069b",
   "metadata": {},
   "source": []
  },
  {
   "cell_type": "code",
   "execution_count": 24,
   "id": "c214bbe2",
   "metadata": {},
   "outputs": [],
   "source": [
    "instance Booleaneggiante Bool where\n",
    "    veruccio True = True\n",
    "    veruccio False = False"
   ]
  },
  {
   "cell_type": "markdown",
   "id": "3e3d38f5",
   "metadata": {},
   "source": [
    "Facile, no? Come anticipato, non é necessario definire anche `falsuccio` per via della definizione che abbiamo scritto all'interno della typeclass stessa. Difatti possiamo scrivere:"
   ]
  },
  {
   "cell_type": "code",
   "execution_count": 25,
   "id": "756658d1",
   "metadata": {},
   "outputs": [
    {
     "data": {
      "text/plain": [
       "False"
      ]
     },
     "metadata": {},
     "output_type": "display_data"
    }
   ],
   "source": [
    "falsuccio True"
   ]
  },
  {
   "cell_type": "code",
   "execution_count": 26,
   "id": "51a79de7",
   "metadata": {},
   "outputs": [
    {
     "data": {
      "text/plain": [
       "True"
      ]
     },
     "metadata": {},
     "output_type": "display_data"
    }
   ],
   "source": [
    "falsuccio False"
   ]
  },
  {
   "cell_type": "markdown",
   "id": "68e319de",
   "metadata": {},
   "source": [
    "Passiamo ora ad istanziare la nostra nuova typeclass per altri tipi di dato.\n",
    "\n",
    "### Int"
   ]
  },
  {
   "cell_type": "code",
   "execution_count": 27,
   "id": "5853a9b0",
   "metadata": {},
   "outputs": [],
   "source": [
    "instance Booleaneggiante Int where\n",
    "    veruccio 0 = False\n",
    "    veruccio _ = True"
   ]
  },
  {
   "cell_type": "code",
   "execution_count": 28,
   "id": "6216447f",
   "metadata": {},
   "outputs": [],
   "source": [
    "n = 0 :: Int\n",
    "n' = 15 :: Int"
   ]
  },
  {
   "cell_type": "code",
   "execution_count": 29,
   "id": "63dfcdc8",
   "metadata": {},
   "outputs": [
    {
     "data": {
      "text/plain": [
       "False"
      ]
     },
     "metadata": {},
     "output_type": "display_data"
    }
   ],
   "source": [
    "veruccio n"
   ]
  },
  {
   "cell_type": "code",
   "execution_count": 30,
   "id": "7c86c19e",
   "metadata": {},
   "outputs": [
    {
     "data": {
      "text/plain": [
       "True"
      ]
     },
     "metadata": {},
     "output_type": "display_data"
    }
   ],
   "source": [
    "veruccio n'"
   ]
  },
  {
   "cell_type": "markdown",
   "id": "c1205040",
   "metadata": {},
   "source": [
    "### Liste"
   ]
  },
  {
   "cell_type": "code",
   "execution_count": 31,
   "id": "f6a9ea2a",
   "metadata": {},
   "outputs": [],
   "source": [
    "instance Booleaneggiante [a] where\n",
    "    veruccio [] = False\n",
    "    veruccio _ = True"
   ]
  },
  {
   "cell_type": "code",
   "execution_count": 32,
   "id": "49fc3ea1",
   "metadata": {},
   "outputs": [
    {
     "data": {
      "text/plain": [
       "False"
      ]
     },
     "metadata": {},
     "output_type": "display_data"
    }
   ],
   "source": [
    "veruccio []"
   ]
  },
  {
   "cell_type": "code",
   "execution_count": 33,
   "id": "fe92a73c",
   "metadata": {},
   "outputs": [
    {
     "data": {
      "text/plain": [
       "True"
      ]
     },
     "metadata": {},
     "output_type": "display_data"
    }
   ],
   "source": [
    "veruccio [1,2,3]"
   ]
  },
  {
   "cell_type": "markdown",
   "id": "4b7e708b",
   "metadata": {},
   "source": [
    "Ovviamente, questo fa sì che `veruccio` e `falsuccio` funzionino anche per le stringhe, che sono liste di caratteri. Di conseguenza, possiamo replicare l'esempio che abbiamo visto all'inizio in Python:"
   ]
  },
  {
   "cell_type": "code",
   "execution_count": 34,
   "id": "344260fe",
   "metadata": {},
   "outputs": [],
   "source": [
    "esempioPython stringa = \n",
    "    if veruccio stringa -- particamente basta aggiungere un \"veruccio\" qui\n",
    "        then putStrLn stringa\n",
    "        else putStrLn \"mi dispiace, la stringa è vuota!\""
   ]
  },
  {
   "cell_type": "code",
   "execution_count": 35,
   "id": "2ce6737b",
   "metadata": {},
   "outputs": [
    {
     "data": {
      "text/plain": [
       "ciao"
      ]
     },
     "metadata": {},
     "output_type": "display_data"
    }
   ],
   "source": [
    "esempioPython \"ciao\""
   ]
  },
  {
   "cell_type": "code",
   "execution_count": 36,
   "id": "fbc74922",
   "metadata": {},
   "outputs": [
    {
     "data": {
      "text/plain": [
       "mi dispiace, la stringa è vuota!"
      ]
     },
     "metadata": {},
     "output_type": "display_data"
    }
   ],
   "source": [
    "esempioPython \"\""
   ]
  },
  {
   "cell_type": "markdown",
   "id": "302c6e51",
   "metadata": {},
   "source": [
    "### Maybe"
   ]
  },
  {
   "cell_type": "code",
   "execution_count": 37,
   "id": "32f3f937",
   "metadata": {},
   "outputs": [],
   "source": [
    "instance Booleaneggiante (Maybe a) where\n",
    "    veruccio Nothing = False\n",
    "    veruccio _ = True"
   ]
  },
  {
   "cell_type": "code",
   "execution_count": 38,
   "id": "0ac53e08",
   "metadata": {},
   "outputs": [
    {
     "data": {
      "text/plain": [
       "False"
      ]
     },
     "metadata": {},
     "output_type": "display_data"
    }
   ],
   "source": [
    "veruccio Nothing"
   ]
  },
  {
   "cell_type": "code",
   "execution_count": 39,
   "id": "2a227d0d",
   "metadata": {},
   "outputs": [
    {
     "data": {
      "text/plain": [
       "True"
      ]
     },
     "metadata": {},
     "output_type": "display_data"
    }
   ],
   "source": [
    "veruccio (Just \"ciao\")"
   ]
  },
  {
   "cell_type": "code",
   "execution_count": 40,
   "id": "24029bee",
   "metadata": {},
   "outputs": [
    {
     "data": {
      "text/plain": [
       "True"
      ]
     },
     "metadata": {},
     "output_type": "display_data"
    }
   ],
   "source": [
    "falsuccio Nothing"
   ]
  },
  {
   "cell_type": "code",
   "execution_count": 41,
   "id": "655b5f97",
   "metadata": {},
   "outputs": [
    {
     "data": {
      "text/plain": [
       "False"
      ]
     },
     "metadata": {},
     "output_type": "display_data"
    }
   ],
   "source": [
    "falsuccio (Just \"ciao\")"
   ]
  }
 ],
 "metadata": {
  "kernelspec": {
   "display_name": "Haskell",
   "language": "haskell",
   "name": "haskell"
  },
  "language_info": {
   "codemirror_mode": "ihaskell",
   "file_extension": ".hs",
   "mimetype": "text/x-haskell",
   "name": "haskell",
   "pygments_lexer": "Haskell",
   "version": "8.10.7"
  }
 },
 "nbformat": 4,
 "nbformat_minor": 5
}
